{
 "cells": [
  {
   "cell_type": "code",
   "execution_count": 1,
   "metadata": {},
   "outputs": [],
   "source": [
    "from IPython.core.interactiveshell import InteractiveShell\n",
    "InteractiveShell.ast_node_interactivity = \"all\""
   ]
  },
  {
   "cell_type": "markdown",
   "metadata": {},
   "source": [
    "# (1) Create Datasets"
   ]
  },
  {
   "cell_type": "code",
   "execution_count": 2,
   "metadata": {},
   "outputs": [],
   "source": [
    "from src.parameters import Parameters\n",
    "from src.features import Featureset\n",
    "from src.data_loaders import GroupDataset, GroupDataCollator"
   ]
  },
  {
   "cell_type": "markdown",
   "metadata": {},
   "source": [
    "#### View Raw Data"
   ]
  },
  {
   "cell_type": "code",
   "execution_count": 3,
   "metadata": {},
   "outputs": [
    {
     "data": {
      "text/html": [
       "<div>\n",
       "<style scoped>\n",
       "    .dataframe tbody tr th:only-of-type {\n",
       "        vertical-align: middle;\n",
       "    }\n",
       "\n",
       "    .dataframe tbody tr th {\n",
       "        vertical-align: top;\n",
       "    }\n",
       "\n",
       "    .dataframe thead th {\n",
       "        text-align: right;\n",
       "    }\n",
       "</style>\n",
       "<table border=\"1\" class=\"dataframe\">\n",
       "  <thead>\n",
       "    <tr style=\"text-align: right;\">\n",
       "      <th></th>\n",
       "      <th>sid</th>\n",
       "      <th>datetime</th>\n",
       "      <th>cid</th>\n",
       "      <th>category</th>\n",
       "      <th>duration</th>\n",
       "    </tr>\n",
       "  </thead>\n",
       "  <tbody>\n",
       "    <tr>\n",
       "      <th>0</th>\n",
       "      <td>2551</td>\n",
       "      <td>2014-04-07 05:11:26.029</td>\n",
       "      <td>214827007</td>\n",
       "      <td>0</td>\n",
       "      <td>15.000</td>\n",
       "    </tr>\n",
       "    <tr>\n",
       "      <th>1</th>\n",
       "      <td>2551</td>\n",
       "      <td>2014-04-07 05:11:41.029</td>\n",
       "      <td>214827007</td>\n",
       "      <td>0</td>\n",
       "      <td>30.668</td>\n",
       "    </tr>\n",
       "    <tr>\n",
       "      <th>2</th>\n",
       "      <td>2551</td>\n",
       "      <td>2014-04-07 05:12:11.697</td>\n",
       "      <td>214827000</td>\n",
       "      <td>0</td>\n",
       "      <td>10.648</td>\n",
       "    </tr>\n",
       "    <tr>\n",
       "      <th>3</th>\n",
       "      <td>2551</td>\n",
       "      <td>2014-04-07 05:12:22.345</td>\n",
       "      <td>214827000</td>\n",
       "      <td>0</td>\n",
       "      <td>15.401</td>\n",
       "    </tr>\n",
       "    <tr>\n",
       "      <th>4</th>\n",
       "      <td>2551</td>\n",
       "      <td>2014-04-07 05:12:37.746</td>\n",
       "      <td>214827000</td>\n",
       "      <td>0</td>\n",
       "      <td>15.372</td>\n",
       "    </tr>\n",
       "  </tbody>\n",
       "</table>\n",
       "</div>"
      ],
      "text/plain": [
       "    sid                 datetime        cid  category  duration\n",
       "0  2551  2014-04-07 05:11:26.029  214827007         0    15.000\n",
       "1  2551  2014-04-07 05:11:41.029  214827007         0    30.668\n",
       "2  2551  2014-04-07 05:12:11.697  214827000         0    10.648\n",
       "3  2551  2014-04-07 05:12:22.345  214827000         0    15.401\n",
       "4  2551  2014-04-07 05:12:37.746  214827000         0    15.372"
      ]
     },
     "execution_count": 3,
     "metadata": {},
     "output_type": "execute_result"
    },
    {
     "data": {
      "text/html": [
       "<div>\n",
       "<style scoped>\n",
       "    .dataframe tbody tr th:only-of-type {\n",
       "        vertical-align: middle;\n",
       "    }\n",
       "\n",
       "    .dataframe tbody tr th {\n",
       "        vertical-align: top;\n",
       "    }\n",
       "\n",
       "    .dataframe thead th {\n",
       "        text-align: right;\n",
       "    }\n",
       "</style>\n",
       "<table border=\"1\" class=\"dataframe\">\n",
       "  <thead>\n",
       "    <tr style=\"text-align: right;\">\n",
       "      <th></th>\n",
       "      <th>cid</th>\n",
       "      <th>nsessbuy</th>\n",
       "      <th>nbuysess</th>\n",
       "      <th>price</th>\n",
       "      <th>totbuys</th>\n",
       "      <th>totclicks</th>\n",
       "      <th>totdurs</th>\n",
       "    </tr>\n",
       "  </thead>\n",
       "  <tbody>\n",
       "    <tr>\n",
       "      <th>0</th>\n",
       "      <td>214507331</td>\n",
       "      <td>233</td>\n",
       "      <td>0.566524</td>\n",
       "      <td>1576.471483</td>\n",
       "      <td>132</td>\n",
       "      <td>58</td>\n",
       "      <td>13321.498</td>\n",
       "    </tr>\n",
       "    <tr>\n",
       "      <th>1</th>\n",
       "      <td>214507365</td>\n",
       "      <td>69</td>\n",
       "      <td>1.376812</td>\n",
       "      <td>205.780822</td>\n",
       "      <td>95</td>\n",
       "      <td>53</td>\n",
       "      <td>6121.674</td>\n",
       "    </tr>\n",
       "    <tr>\n",
       "      <th>2</th>\n",
       "      <td>214507385</td>\n",
       "      <td>67</td>\n",
       "      <td>4.134328</td>\n",
       "      <td>112.000000</td>\n",
       "      <td>277</td>\n",
       "      <td>24</td>\n",
       "      <td>2492.850</td>\n",
       "    </tr>\n",
       "    <tr>\n",
       "      <th>3</th>\n",
       "      <td>214507408</td>\n",
       "      <td>48</td>\n",
       "      <td>2.041667</td>\n",
       "      <td>94.117647</td>\n",
       "      <td>98</td>\n",
       "      <td>42</td>\n",
       "      <td>4203.699</td>\n",
       "    </tr>\n",
       "    <tr>\n",
       "      <th>4</th>\n",
       "      <td>214507415</td>\n",
       "      <td>29</td>\n",
       "      <td>3.448276</td>\n",
       "      <td>256.363636</td>\n",
       "      <td>100</td>\n",
       "      <td>89</td>\n",
       "      <td>6778.327</td>\n",
       "    </tr>\n",
       "  </tbody>\n",
       "</table>\n",
       "</div>"
      ],
      "text/plain": [
       "         cid  nsessbuy  nbuysess        price  totbuys  totclicks    totdurs\n",
       "0  214507331       233  0.566524  1576.471483      132         58  13321.498\n",
       "1  214507365        69  1.376812   205.780822       95         53   6121.674\n",
       "2  214507385        67  4.134328   112.000000      277         24   2492.850\n",
       "3  214507408        48  2.041667    94.117647       98         42   4203.699\n",
       "4  214507415        29  3.448276   256.363636      100         89   6778.327"
      ]
     },
     "execution_count": 3,
     "metadata": {},
     "output_type": "execute_result"
    },
    {
     "data": {
      "text/html": [
       "<div>\n",
       "<style scoped>\n",
       "    .dataframe tbody tr th:only-of-type {\n",
       "        vertical-align: middle;\n",
       "    }\n",
       "\n",
       "    .dataframe tbody tr th {\n",
       "        vertical-align: top;\n",
       "    }\n",
       "\n",
       "    .dataframe thead th {\n",
       "        text-align: right;\n",
       "    }\n",
       "</style>\n",
       "<table border=\"1\" class=\"dataframe\">\n",
       "  <thead>\n",
       "    <tr style=\"text-align: right;\">\n",
       "      <th></th>\n",
       "      <th>sid</th>\n",
       "      <th>datetime</th>\n",
       "      <th>cid</th>\n",
       "      <th>price</th>\n",
       "      <th>quantity</th>\n",
       "    </tr>\n",
       "  </thead>\n",
       "  <tbody>\n",
       "    <tr>\n",
       "      <th>0</th>\n",
       "      <td>2551</td>\n",
       "      <td>2014-04-07 05:22:04.042</td>\n",
       "      <td>0</td>\n",
       "      <td>0</td>\n",
       "      <td>0</td>\n",
       "    </tr>\n",
       "    <tr>\n",
       "      <th>1</th>\n",
       "      <td>3309</td>\n",
       "      <td>2014-04-06 11:31:00.291</td>\n",
       "      <td>0</td>\n",
       "      <td>0</td>\n",
       "      <td>0</td>\n",
       "    </tr>\n",
       "    <tr>\n",
       "      <th>2</th>\n",
       "      <td>3857</td>\n",
       "      <td>2014-04-02 20:07:35.919</td>\n",
       "      <td>214821285</td>\n",
       "      <td>2092</td>\n",
       "      <td>1</td>\n",
       "    </tr>\n",
       "    <tr>\n",
       "      <th>3</th>\n",
       "      <td>3857</td>\n",
       "      <td>2014-04-02 20:07:35.877</td>\n",
       "      <td>214820383</td>\n",
       "      <td>4188</td>\n",
       "      <td>2</td>\n",
       "    </tr>\n",
       "    <tr>\n",
       "      <th>4</th>\n",
       "      <td>3857</td>\n",
       "      <td>2014-04-02 20:07:36.017</td>\n",
       "      <td>214819562</td>\n",
       "      <td>1046</td>\n",
       "      <td>1</td>\n",
       "    </tr>\n",
       "  </tbody>\n",
       "</table>\n",
       "</div>"
      ],
      "text/plain": [
       "    sid                 datetime        cid  price  quantity\n",
       "0  2551  2014-04-07 05:22:04.042          0      0         0\n",
       "1  3309  2014-04-06 11:31:00.291          0      0         0\n",
       "2  3857  2014-04-02 20:07:35.919  214821285   2092         1\n",
       "3  3857  2014-04-02 20:07:35.877  214820383   4188         2\n",
       "4  3857  2014-04-02 20:07:36.017  214819562   1046         1"
      ]
     },
     "execution_count": 3,
     "metadata": {},
     "output_type": "execute_result"
    }
   ],
   "source": [
    "import pandas as pd\n",
    "_users = ['sid', 'datetime', 'cid', 'category', 'duration']\n",
    "_items = ['cid', 'nsessbuy', 'nbuysess', 'price', 'totbuys', 'totclicks', 'totdurs']\n",
    "_targets = ['sid', 'datetime', 'cid', 'price', 'quantity']\n",
    "\n",
    "users = pd.read_csv('datasets/yc_small/users.csv', names=_users)\n",
    "items = pd.read_csv('datasets/yc_small/items.csv', names=_items)\n",
    "targets = pd.read_csv('datasets/yc_small/targets.csv', names=_targets)\n",
    "users.head()\n",
    "items.head()\n",
    "targets.head()"
   ]
  },
  {
   "cell_type": "markdown",
   "metadata": {},
   "source": [
    "#### Configure Data"
   ]
  },
  {
   "cell_type": "code",
   "execution_count": 4,
   "metadata": {},
   "outputs": [],
   "source": [
    "data_config = {\n",
    "    'sid':Parameters(mode='uid', vector=None),\n",
    "    'datetime':Parameters(mode='datetime', vector=None),\n",
    "    'category':Parameters(mode='categorical', vector='embedding'),\n",
    "    'duration':Parameters(mode='numerical', vector='linear'),\n",
    "    'nsessbuy':Parameters(mode='numerical', vector='linear'),\n",
    "    'nbuysess':Parameters(mode='numerical', vector='linear'),\n",
    "    'totbuys':Parameters(mode='numerical', vector='linear'),\n",
    "    'totclicks':Parameters(mode='numerical', vector='linear'),\n",
    "    'totdurs':Parameters(mode='numerical', vector='linear'),\n",
    "    'price':Parameters(mode='numerical', vector='linear'),\n",
    "    'cid':Parameters(mode='categorical', vector='embedding'),\n",
    "}"
   ]
  },
  {
   "cell_type": "markdown",
   "metadata": {},
   "source": [
    "#### Create and Save Train/Test Sets"
   ]
  },
  {
   "cell_type": "code",
   "execution_count": 5,
   "metadata": {},
   "outputs": [],
   "source": [
    "from src.yc_utils import YCFeature"
   ]
  },
  {
   "cell_type": "code",
   "execution_count": 6,
   "metadata": {},
   "outputs": [
    {
     "name": "stdout",
     "output_type": "stream",
     "text": [
      "loading dataframe\n",
      "adding labels and datetimes\n",
      "updating config\n",
      "creating features\n"
     ]
    }
   ],
   "source": [
    "_features_yc = Featureset('datasets/yc_small', data_config)\n",
    "_features_yc.load_yc('users.csv', 'items.csv', 'targets.csv')\n",
    "_features_yc.create_new_dataset(train_split=0.9, tag=1)"
   ]
  },
  {
   "cell_type": "markdown",
   "metadata": {},
   "source": [
    "#### Load and Explore Data"
   ]
  },
  {
   "cell_type": "code",
   "execution_count": 7,
   "metadata": {},
   "outputs": [
    {
     "data": {
      "text/plain": [
       "{'label': torch.Size([2, 1]),\n",
       " 'month': torch.Size([2, 49]),\n",
       " 'day': torch.Size([2, 49]),\n",
       " 'wday': torch.Size([2, 49]),\n",
       " 'oddtime': torch.Size([2, 49, 1]),\n",
       " 'eventime': torch.Size([2, 49, 1]),\n",
       " 'category': torch.Size([2, 49]),\n",
       " 'duration': torch.Size([2, 49, 1]),\n",
       " 'cid': torch.Size([2, 49]),\n",
       " 'nsessbuy': torch.Size([2, 49, 1]),\n",
       " 'nbuysess': torch.Size([2, 49, 1]),\n",
       " 'price': torch.Size([2, 49, 1]),\n",
       " 'totbuys': torch.Size([2, 49, 1]),\n",
       " 'totclicks': torch.Size([2, 49, 1]),\n",
       " 'totdurs': torch.Size([2, 49, 1]),\n",
       " 'seq_mask': torch.Size([2, 49])}"
      ]
     },
     "execution_count": 7,
     "metadata": {},
     "output_type": "execute_result"
    }
   ],
   "source": [
    "import torch\n",
    "\n",
    "features = Featureset('datasets/yc_small')\n",
    "features.load_dataset(tag=1)\n",
    "                          \n",
    "dataset = GroupDataset(features.test_features)\n",
    "data_loader = torch.utils.data.DataLoader(dataset, batch_size=2, collate_fn = GroupDataCollator(features.config))\n",
    "data = next(iter(data_loader))\n",
    "\n",
    "{k:v.shape for k,v in data.items()}"
   ]
  },
  {
   "cell_type": "code",
   "execution_count": 8,
   "metadata": {},
   "outputs": [
    {
     "data": {
      "text/plain": [
       "{'label': 2,\n",
       " 'month': 7,\n",
       " 'day': 32,\n",
       " 'wday': 8,\n",
       " 'oddtime': 1,\n",
       " 'eventime': 1,\n",
       " 'category': 14,\n",
       " 'duration': 1,\n",
       " 'cid': 8440,\n",
       " 'nsessbuy': 1,\n",
       " 'nbuysess': 1,\n",
       " 'price': 1,\n",
       " 'totbuys': 1,\n",
       " 'totclicks': 1,\n",
       " 'totdurs': 1}"
      ]
     },
     "execution_count": 8,
     "metadata": {},
     "output_type": "execute_result"
    }
   ],
   "source": [
    "{k:features.config[k].size for k,v in data.items() if k in features.config}"
   ]
  },
  {
   "cell_type": "markdown",
   "metadata": {},
   "source": [
    "# (2) Explore Group Model"
   ]
  },
  {
   "cell_type": "code",
   "execution_count": 11,
   "metadata": {},
   "outputs": [],
   "source": [
    "from src.modules import MergeLayer, FlattenLayer, GroupLayer, GroupModel\n",
    "from src.modules import NonLinear, EmbeddingNonLinear\n",
    "from src.modules import GRU, EmbeddingGRU"
   ]
  },
  {
   "cell_type": "code",
   "execution_count": 12,
   "metadata": {},
   "outputs": [],
   "source": [
    "model = GroupModel({\n",
    "    'merge_1':MergeLayer({\n",
    "        'month':('month',),\n",
    "        'day':('day',),\n",
    "        'wday':('wday',),\n",
    "        'time':('oddtime', 'eventime'),\n",
    "        'duration':('duration',),\n",
    "        'popularity':('nsessbuy', 'nbuysess', 'totbuys', 'totclicks', 'totdurs'),\n",
    "        'price':('price',),\n",
    "        'cid':('cid',),\n",
    "        'seq_mask':('seq_mask',)\n",
    "    }),\n",
    "    \n",
    "    'embed':GroupLayer({\n",
    "        'month':EmbeddingGRU(7, 4, 2, 4),\n",
    "        'day':EmbeddingGRU(32, 8, 2, 8),\n",
    "        'wday':EmbeddingGRU(8, 4, 2, 4),\n",
    "        'time':GRU(2, 4, 4),\n",
    "        'duration':GRU(1, 2, 4),\n",
    "        'popularity':GRU(5, 8, 8),\n",
    "        'price':GRU(1, 2, 4),\n",
    "        'cid':EmbeddingGRU(8440, 128, 4, 12)\n",
    "    }), \n",
    "    \n",
    "    'merge_2':MergeLayer({\n",
    "        'user':('month', 'day', 'wday', 'time', 'duration'),\n",
    "        'item':('popularity', 'price', 'cid')\n",
    "    }),\n",
    "    \n",
    "    'groups_1':GroupLayer({\n",
    "        'user':NonLinear(24, 16, 8),\n",
    "        'item':NonLinear(24, 16, 8),\n",
    "    }),\n",
    "    \n",
    "    'flat':FlattenLayer('item'),\n",
    "    \n",
    "    'proj':MergeLayer({\n",
    "        'pred':('user', 'item'),\n",
    "    }), \n",
    "    \n",
    "    'pred':GroupLayer({\n",
    "        'pred':NonLinear(16, 32, 2)\n",
    "    })\n",
    "})\n",
    "\n",
    "model.eval()\n",
    "pass;"
   ]
  },
  {
   "cell_type": "markdown",
   "metadata": {},
   "source": [
    "#### Example Prediction"
   ]
  },
  {
   "cell_type": "code",
   "execution_count": 13,
   "metadata": {},
   "outputs": [
    {
     "data": {
      "text/plain": [
       "tensor([[-0.0994, -0.0606],\n",
       "        [-0.0971, -0.0703]], grad_fn=<AddmmBackward>)"
      ]
     },
     "execution_count": 13,
     "metadata": {},
     "output_type": "execute_result"
    }
   ],
   "source": [
    "model(data)"
   ]
  },
  {
   "cell_type": "markdown",
   "metadata": {},
   "source": [
    "#### Run data through first layer 'merge_1'"
   ]
  },
  {
   "cell_type": "code",
   "execution_count": 26,
   "metadata": {},
   "outputs": [
    {
     "data": {
      "text/plain": [
       "{'month': torch.Size([2, 49]),\n",
       " 'day': torch.Size([2, 49]),\n",
       " 'wday': torch.Size([2, 49]),\n",
       " 'time': torch.Size([2, 49, 2]),\n",
       " 'duration': torch.Size([2, 49, 1]),\n",
       " 'popularity': torch.Size([2, 49, 5]),\n",
       " 'price': torch.Size([2, 49, 1]),\n",
       " 'cid': torch.Size([2, 49]),\n",
       " 'seq_mask': torch.Size([2, 49])}"
      ]
     },
     "execution_count": 26,
     "metadata": {},
     "output_type": "execute_result"
    }
   ],
   "source": [
    "{k:v.shape for k,v in model.layers['merge_1'](data).items()}"
   ]
  },
  {
   "cell_type": "markdown",
   "metadata": {},
   "source": [
    "#### Run data through first two layers 'merge_1', 'embed'"
   ]
  },
  {
   "cell_type": "code",
   "execution_count": 15,
   "metadata": {},
   "outputs": [
    {
     "data": {
      "text/plain": [
       "{'month': torch.Size([2, 1, 4]),\n",
       " 'day': torch.Size([2, 1, 8]),\n",
       " 'wday': torch.Size([2, 1, 4]),\n",
       " 'time': torch.Size([2, 1, 4]),\n",
       " 'duration': torch.Size([2, 1, 4]),\n",
       " 'popularity': torch.Size([2, 1, 8]),\n",
       " 'price': torch.Size([2, 1, 4]),\n",
       " 'cid': torch.Size([2, 1, 12])}"
      ]
     },
     "execution_count": 15,
     "metadata": {},
     "output_type": "execute_result"
    }
   ],
   "source": [
    "{k:v.shape for k,v in model.layers['embed'](model.layers['merge_1'](data)).items()}"
   ]
  },
  {
   "cell_type": "markdown",
   "metadata": {},
   "source": [
    "#### Run 'cid' through 'cid' embedding of second layer"
   ]
  },
  {
   "cell_type": "code",
   "execution_count": 19,
   "metadata": {},
   "outputs": [
    {
     "data": {
      "text/plain": [
       "tensor([[[ 0.0389,  0.1014, -0.0509, -0.1742,  0.1346, -0.2221,  0.0153,\n",
       "          -0.3181,  0.1523,  0.0308, -0.3138, -0.2741]],\n",
       "\n",
       "        [[-0.0101, -0.0073,  0.0860, -0.2701,  0.2793, -0.1145, -0.0440,\n",
       "          -0.1686,  0.1211, -0.0094, -0.2826, -0.2399]]],\n",
       "       grad_fn=<MeanBackward1>)"
      ]
     },
     "execution_count": 19,
     "metadata": {},
     "output_type": "execute_result"
    }
   ],
   "source": [
    "data_cid = model.layers['merge_1'](data)['cid']\n",
    "model.layers['embed'].blocks['cid'](data_cid, data['seq_mask'])"
   ]
  },
  {
   "cell_type": "markdown",
   "metadata": {},
   "source": [
    "# (3) Train Group Model"
   ]
  },
  {
   "cell_type": "code",
   "execution_count": 22,
   "metadata": {},
   "outputs": [],
   "source": [
    "import torch\n",
    "import torch.nn as nn\n",
    "import torch.nn.functional as F\n",
    "import torch.optim as optim\n",
    "\n",
    "import datetime"
   ]
  },
  {
   "cell_type": "code",
   "execution_count": 23,
   "metadata": {},
   "outputs": [],
   "source": [
    "features = Featureset('datasets/yc_small')\n",
    "features.load_dataset(tag=1)\n",
    "\n",
    "trainloader = torch.utils.data.DataLoader(\n",
    "    GroupDataset(features.train_features), batch_size=100, shuffle=True, \n",
    "    collate_fn=GroupDataCollator(features.config)\n",
    ")\n",
    "\n",
    "testloader = torch.utils.data.DataLoader(\n",
    "    GroupDataset(features.test_features), batch_size=100, shuffle=False, \n",
    "    collate_fn=GroupDataCollator(features.config)\n",
    ")"
   ]
  },
  {
   "cell_type": "code",
   "execution_count": 24,
   "metadata": {},
   "outputs": [],
   "source": [
    "print_every = 2\n",
    "epochs = 10\n",
    "\n",
    "optimizer = torch.optim.Adam(model.parameters(), lr=0.001, betas=(0.9, 0.98), eps=1e-9)\n",
    "criterion = nn.CrossEntropyLoss()"
   ]
  },
  {
   "cell_type": "code",
   "execution_count": 25,
   "metadata": {},
   "outputs": [
    {
     "name": "stdout",
     "output_type": "stream",
     "text": [
      "Start Time: 11:22:39\n",
      "Epoch 000 || Train Loss: 0.606 || Test Loss: 0.505\n",
      "Epoch 002 || Train Loss: 0.531 || Test Loss: 0.494\n",
      "Epoch 004 || Train Loss: 0.425 || Test Loss: 0.527\n",
      "Epoch 006 || Train Loss: 0.360 || Test Loss: 0.536\n",
      "Epoch 008 || Train Loss: 0.311 || Test Loss: 0.608\n",
      "End Time: 11:26:14\n",
      "Completed in 215.405964 seconds\n"
     ]
    }
   ],
   "source": [
    "time_start = datetime.datetime.now()\n",
    "print('Start Time: %s'%time_start.strftime('%H:%M:%S'))\n",
    "\n",
    "for epoch in range(0, epochs):\n",
    "    epoch_start = datetime.datetime.now()\n",
    "    model.train();\n",
    "    train_loss = 0.0\n",
    "    test_loss = 0.0\n",
    "    train_nbatches = 0\n",
    "    test_nbatches = 0\n",
    "    \n",
    "    for inputs in trainloader:\n",
    "        preds = model(inputs)\n",
    "\n",
    "        loss = criterion(preds, inputs['label'].squeeze())\n",
    "        loss.backward()\n",
    "        optimizer.step()\n",
    "        optimizer.zero_grad()\n",
    "        \n",
    "        train_loss += float(loss)\n",
    "        train_nbatches += 1\n",
    "    \n",
    "    model.eval();\n",
    "    with torch.no_grad():\n",
    "        for inputs in testloader:\n",
    "            preds = model(inputs)\n",
    "            loss = criterion(preds, inputs['label'].squeeze())\n",
    "            test_loss += float(loss)\n",
    "            test_nbatches += 1\n",
    "\n",
    "    train_loss/=train_nbatches\n",
    "    test_loss/=test_nbatches\n",
    "    \n",
    "    if epoch%print_every == 0:\n",
    "        print('Epoch {} || Train Loss: {:.3f} || Test Loss: {:.3f}'.format(\n",
    "            str(epoch).zfill(3), train_loss, test_loss)\n",
    "             )\n",
    "time_finish = datetime.datetime.now()\n",
    "print('End Time: %s'%time_finish.strftime('%H:%M:%S'))\n",
    "print('Completed in %s seconds'%(time_finish-time_start).total_seconds())\n",
    "pass;"
   ]
  },
  {
   "cell_type": "code",
   "execution_count": null,
   "metadata": {},
   "outputs": [],
   "source": [
    "model.eval()\n",
    "pass;"
   ]
  }
 ],
 "metadata": {
  "kernelspec": {
   "display_name": "win",
   "language": "python",
   "name": "win"
  },
  "language_info": {
   "codemirror_mode": {
    "name": "ipython",
    "version": 3
   },
   "file_extension": ".py",
   "mimetype": "text/x-python",
   "name": "python",
   "nbconvert_exporter": "python",
   "pygments_lexer": "ipython3",
   "version": "3.6.12"
  }
 },
 "nbformat": 4,
 "nbformat_minor": 4
}
